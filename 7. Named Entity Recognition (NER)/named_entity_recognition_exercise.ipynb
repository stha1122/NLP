{
 "cells": [
  {
   "cell_type": "markdown",
   "metadata": {
    "id": "ibF7pjNyhBrR"
   },
   "source": [
    "###                     **Named Entity Recognition (NER): Exercises**"
   ]
  },
  {
   "cell_type": "code",
   "execution_count": 1,
   "metadata": {
    "id": "liI13P5Eg_w-"
   },
   "outputs": [],
   "source": [
    "#importing necessary libraries \n",
    "import spacy\n",
    "\n",
    "nlp = spacy.load(\"en_core_web_sm\")  #creating an object and loading the pre-trained model for \"English\""
   ]
  },
  {
   "cell_type": "markdown",
   "metadata": {
    "id": "LFR-Ep2DhXXa"
   },
   "source": [
    "#### **Excersie: 1**\n",
    "\n",
    "- Extract all the Geographical (cities, Countries, states) names from a given text"
   ]
  },
  {
   "cell_type": "code",
   "execution_count": 12,
   "metadata": {
    "colab": {
     "base_uri": "https://localhost:8080/"
    },
    "id": "HgYXmU3phKbg",
    "outputId": "ff6b90e8-ee46-4017-b185-c7b53f65d625"
   },
   "outputs": [
    {
     "name": "stdout",
     "output_type": "stream",
     "text": [
      "Geographical location Names: [India, Delhi, Gujarat, Tamilnadu, Pongal, Andhrapradesh, Assam, Bihar]\n",
      "Count: 8\n"
     ]
    }
   ],
   "source": [
    "text = \"\"\"Kiran want to know the famous foods in each state of India. So, he opened Google and search for this question. Google showed that\n",
    "in Delhi it is Chaat, in Gujarat it is Dal Dhokli, in Tamilnadu it is Pongal, in Andhrapradesh it is Biryani, in Assam it is Papaya Khar,\n",
    "in Bihar it is Litti Chowkha and so on for all other states\"\"\"\n",
    "\n",
    "doc = nlp(text)\n",
    "\n",
    "Geographical_location_Names = []\n",
    "for ent in doc.ents:\n",
    "    \n",
    "    if ent.label_ == 'GPE':\n",
    "    \n",
    "        Geographical_location_Names.append(ent)\n",
    "\n",
    "print(\"Geographical location Names:\",Geographical_location_Names)\n",
    "print(\"Count:\",len(Geographical_location_Names))\n",
    "\n",
    "\n"
   ]
  },
  {
   "cell_type": "markdown",
   "metadata": {},
   "source": [
    "**Expected Output:**\n",
    "\n",
    "Geographical location Names:  [India, Delhi, Gujarat, Tamilnadu, Andhrapradesh, Assam, Bihar]\n",
    "\n",
    "Count:  7"
   ]
  },
  {
   "cell_type": "markdown",
   "metadata": {
    "id": "fJT4UnUYkpSP"
   },
   "source": [
    "#### **Excersie: 2**\n",
    "\n",
    "- Extract all the birth dates of cricketers in the given Text"
   ]
  },
  {
   "cell_type": "code",
   "execution_count": 13,
   "metadata": {
    "colab": {
     "base_uri": "https://localhost:8080/"
    },
    "id": "pOMngJ2chKda",
    "outputId": "bbfb7cd5-3088-4503-8d94-aa263aac0608"
   },
   "outputs": [
    {
     "name": "stdout",
     "output_type": "stream",
     "text": [
      "All Birth Dates: [24 April 1973, 5 November 1988, 7 July 1981, 19 December 1974]\n",
      "Count: 4\n"
     ]
    }
   ],
   "source": [
    "text = \"\"\"Sachin Tendulkar was born on 24 April 1973, Virat Kholi was born on 5 November 1988, Dhoni was born on 7 July 1981\n",
    "and finally Ricky ponting was born on 19 December 1974.\"\"\"\n",
    "\n",
    "doc = nlp(text)\n",
    "\n",
    "All_Birth_Dates = []\n",
    "for ent in doc.ents:\n",
    "    \n",
    "    if ent.label_ == 'DATE' :\n",
    "    \n",
    "        All_Birth_Dates.append(ent)\n",
    "\n",
    "print(\"All Birth Dates:\",All_Birth_Dates)\n",
    "print(\"Count:\",len(All_Birth_Dates))\n",
    "\n",
    "\n",
    "\n"
   ]
  },
  {
   "cell_type": "markdown",
   "metadata": {},
   "source": [
    "**Expected Output:**\n",
    "\n",
    "All Birth Dates:  [24 April 1973, 5 November 1988, 7 July 1981, 19 December 1974]\n",
    "\n",
    "Count:  4"
   ]
  },
  {
   "cell_type": "markdown",
   "metadata": {},
   "source": [
    "## [Solution](./named_entity_recognition_solutions.ipynb)"
   ]
  }
 ],
 "metadata": {
  "colab": {
   "collapsed_sections": [],
   "name": "Named Entity Recognition (NER).ipynb",
   "provenance": []
  },
  "kernelspec": {
   "display_name": "Python 3 (ipykernel)",
   "language": "python",
   "name": "python3"
  },
  "language_info": {
   "codemirror_mode": {
    "name": "ipython",
    "version": 3
   },
   "file_extension": ".py",
   "mimetype": "text/x-python",
   "name": "python",
   "nbconvert_exporter": "python",
   "pygments_lexer": "ipython3",
   "version": "3.9.7"
  }
 },
 "nbformat": 4,
 "nbformat_minor": 1
}

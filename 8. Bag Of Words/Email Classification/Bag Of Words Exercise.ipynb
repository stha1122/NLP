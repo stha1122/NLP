{
 "cells": [
  {
   "cell_type": "markdown",
   "id": "b062f314",
   "metadata": {},
   "source": [
    "<h2 align='center'>NLP Tutorial: Text Representation - Bag Of Words (BOW)</h2>"
   ]
  },
  {
   "cell_type": "code",
   "execution_count": 1,
   "id": "54f8d7a3",
   "metadata": {},
   "outputs": [],
   "source": [
    "import pandas as pd\n",
    "import numpy as np"
   ]
  },
  {
   "cell_type": "code",
   "execution_count": 2,
   "id": "e8912b1f",
   "metadata": {},
   "outputs": [
    {
     "data": {
      "text/html": [
       "<div>\n",
       "<style scoped>\n",
       "    .dataframe tbody tr th:only-of-type {\n",
       "        vertical-align: middle;\n",
       "    }\n",
       "\n",
       "    .dataframe tbody tr th {\n",
       "        vertical-align: top;\n",
       "    }\n",
       "\n",
       "    .dataframe thead th {\n",
       "        text-align: right;\n",
       "    }\n",
       "</style>\n",
       "<table border=\"1\" class=\"dataframe\">\n",
       "  <thead>\n",
       "    <tr style=\"text-align: right;\">\n",
       "      <th></th>\n",
       "      <th>Category</th>\n",
       "      <th>Message</th>\n",
       "    </tr>\n",
       "  </thead>\n",
       "  <tbody>\n",
       "    <tr>\n",
       "      <th>0</th>\n",
       "      <td>ham</td>\n",
       "      <td>Go until jurong point, crazy.. Available only ...</td>\n",
       "    </tr>\n",
       "    <tr>\n",
       "      <th>1</th>\n",
       "      <td>ham</td>\n",
       "      <td>Ok lar... Joking wif u oni...</td>\n",
       "    </tr>\n",
       "    <tr>\n",
       "      <th>2</th>\n",
       "      <td>spam</td>\n",
       "      <td>Free entry in 2 a wkly comp to win FA Cup fina...</td>\n",
       "    </tr>\n",
       "    <tr>\n",
       "      <th>3</th>\n",
       "      <td>ham</td>\n",
       "      <td>U dun say so early hor... U c already then say...</td>\n",
       "    </tr>\n",
       "    <tr>\n",
       "      <th>4</th>\n",
       "      <td>ham</td>\n",
       "      <td>Nah I don't think he goes to usf, he lives aro...</td>\n",
       "    </tr>\n",
       "  </tbody>\n",
       "</table>\n",
       "</div>"
      ],
      "text/plain": [
       "  Category                                            Message\n",
       "0      ham  Go until jurong point, crazy.. Available only ...\n",
       "1      ham                      Ok lar... Joking wif u oni...\n",
       "2     spam  Free entry in 2 a wkly comp to win FA Cup fina...\n",
       "3      ham  U dun say so early hor... U c already then say...\n",
       "4      ham  Nah I don't think he goes to usf, he lives aro..."
      ]
     },
     "execution_count": 2,
     "metadata": {},
     "output_type": "execute_result"
    }
   ],
   "source": [
    "df = pd.read_csv(\"spam.csv\")\n",
    "df.head()"
   ]
  },
  {
   "cell_type": "code",
   "execution_count": 3,
   "id": "e4f5ae86",
   "metadata": {},
   "outputs": [
    {
     "data": {
      "text/plain": [
       "ham     4825\n",
       "spam     747\n",
       "Name: Category, dtype: int64"
      ]
     },
     "execution_count": 3,
     "metadata": {},
     "output_type": "execute_result"
    }
   ],
   "source": [
    "df.Category.value_counts()"
   ]
  },
  {
   "cell_type": "code",
   "execution_count": 4,
   "id": "ce3d207b",
   "metadata": {},
   "outputs": [],
   "source": [
    "df['spam'] = df['Category'].apply(lambda x: 1 if x =='spam' else 0)"
   ]
  },
  {
   "cell_type": "code",
   "execution_count": 5,
   "id": "6b665e00",
   "metadata": {},
   "outputs": [
    {
     "data": {
      "text/plain": [
       "(5572, 3)"
      ]
     },
     "execution_count": 5,
     "metadata": {},
     "output_type": "execute_result"
    }
   ],
   "source": [
    "df.shape"
   ]
  },
  {
   "cell_type": "code",
   "execution_count": 6,
   "id": "0fdd3b0c",
   "metadata": {
    "scrolled": true
   },
   "outputs": [
    {
     "data": {
      "text/html": [
       "<div>\n",
       "<style scoped>\n",
       "    .dataframe tbody tr th:only-of-type {\n",
       "        vertical-align: middle;\n",
       "    }\n",
       "\n",
       "    .dataframe tbody tr th {\n",
       "        vertical-align: top;\n",
       "    }\n",
       "\n",
       "    .dataframe thead th {\n",
       "        text-align: right;\n",
       "    }\n",
       "</style>\n",
       "<table border=\"1\" class=\"dataframe\">\n",
       "  <thead>\n",
       "    <tr style=\"text-align: right;\">\n",
       "      <th></th>\n",
       "      <th>Category</th>\n",
       "      <th>Message</th>\n",
       "      <th>spam</th>\n",
       "    </tr>\n",
       "  </thead>\n",
       "  <tbody>\n",
       "    <tr>\n",
       "      <th>0</th>\n",
       "      <td>ham</td>\n",
       "      <td>Go until jurong point, crazy.. Available only ...</td>\n",
       "      <td>0</td>\n",
       "    </tr>\n",
       "    <tr>\n",
       "      <th>1</th>\n",
       "      <td>ham</td>\n",
       "      <td>Ok lar... Joking wif u oni...</td>\n",
       "      <td>0</td>\n",
       "    </tr>\n",
       "    <tr>\n",
       "      <th>2</th>\n",
       "      <td>spam</td>\n",
       "      <td>Free entry in 2 a wkly comp to win FA Cup fina...</td>\n",
       "      <td>1</td>\n",
       "    </tr>\n",
       "    <tr>\n",
       "      <th>3</th>\n",
       "      <td>ham</td>\n",
       "      <td>U dun say so early hor... U c already then say...</td>\n",
       "      <td>0</td>\n",
       "    </tr>\n",
       "    <tr>\n",
       "      <th>4</th>\n",
       "      <td>ham</td>\n",
       "      <td>Nah I don't think he goes to usf, he lives aro...</td>\n",
       "      <td>0</td>\n",
       "    </tr>\n",
       "  </tbody>\n",
       "</table>\n",
       "</div>"
      ],
      "text/plain": [
       "  Category                                            Message  spam\n",
       "0      ham  Go until jurong point, crazy.. Available only ...     0\n",
       "1      ham                      Ok lar... Joking wif u oni...     0\n",
       "2     spam  Free entry in 2 a wkly comp to win FA Cup fina...     1\n",
       "3      ham  U dun say so early hor... U c already then say...     0\n",
       "4      ham  Nah I don't think he goes to usf, he lives aro...     0"
      ]
     },
     "execution_count": 6,
     "metadata": {},
     "output_type": "execute_result"
    }
   ],
   "source": [
    "df.head()"
   ]
  },
  {
   "cell_type": "markdown",
   "id": "c14da82f",
   "metadata": {},
   "source": [
    "<h3>Train test split</h3>"
   ]
  },
  {
   "cell_type": "code",
   "execution_count": 7,
   "id": "55c57d7e",
   "metadata": {},
   "outputs": [
    {
     "name": "stderr",
     "output_type": "stream",
     "text": [
      "C:\\Users\\Swetha\\anaconda3\\lib\\site-packages\\scipy\\__init__.py:146: UserWarning: A NumPy version >=1.16.5 and <1.23.0 is required for this version of SciPy (detected version 1.24.3\n",
      "  warnings.warn(f\"A NumPy version >={np_minversion} and <{np_maxversion}\"\n"
     ]
    }
   ],
   "source": [
    "from sklearn.model_selection import train_test_split\n",
    "\n",
    "X_train, X_test, y_train, y_test = train_test_split(df.Message, df.spam, test_size=0.2)"
   ]
  },
  {
   "cell_type": "code",
   "execution_count": 8,
   "id": "0c434635",
   "metadata": {},
   "outputs": [
    {
     "data": {
      "text/plain": [
       "(4457,)"
      ]
     },
     "execution_count": 8,
     "metadata": {},
     "output_type": "execute_result"
    }
   ],
   "source": [
    "X_train.shape"
   ]
  },
  {
   "cell_type": "code",
   "execution_count": 9,
   "id": "0322e41b",
   "metadata": {},
   "outputs": [
    {
     "data": {
      "text/plain": [
       "(1115,)"
      ]
     },
     "execution_count": 9,
     "metadata": {},
     "output_type": "execute_result"
    }
   ],
   "source": [
    "X_test.shape"
   ]
  },
  {
   "cell_type": "code",
   "execution_count": 10,
   "id": "2b8afdd0",
   "metadata": {},
   "outputs": [
    {
     "data": {
      "text/plain": [
       "pandas.core.series.Series"
      ]
     },
     "execution_count": 10,
     "metadata": {},
     "output_type": "execute_result"
    }
   ],
   "source": [
    "type(X_train)"
   ]
  },
  {
   "cell_type": "code",
   "execution_count": 11,
   "id": "4c31562f",
   "metadata": {},
   "outputs": [
    {
     "data": {
      "text/plain": [
       "5143    Hi darlin im on helens fone im gonna b up the ...\n",
       "3949    I like to think there's always the possibility...\n",
       "3411    Joy's father is John. Then John is the ____ of...\n",
       "4537    Never blame a day in ur life. Good days give u...\n",
       "Name: Message, dtype: object"
      ]
     },
     "execution_count": 11,
     "metadata": {},
     "output_type": "execute_result"
    }
   ],
   "source": [
    "X_train[:4]"
   ]
  },
  {
   "cell_type": "code",
   "execution_count": 12,
   "id": "425d18a6",
   "metadata": {},
   "outputs": [
    {
     "data": {
      "text/plain": [
       "pandas.core.series.Series"
      ]
     },
     "execution_count": 12,
     "metadata": {},
     "output_type": "execute_result"
    }
   ],
   "source": [
    "type(y_train)"
   ]
  },
  {
   "cell_type": "code",
   "execution_count": 13,
   "id": "0a441180",
   "metadata": {},
   "outputs": [
    {
     "data": {
      "text/plain": [
       "5143    0\n",
       "3949    0\n",
       "3411    0\n",
       "4537    0\n",
       "Name: spam, dtype: int64"
      ]
     },
     "execution_count": 13,
     "metadata": {},
     "output_type": "execute_result"
    }
   ],
   "source": [
    "y_train[:4]"
   ]
  },
  {
   "cell_type": "code",
   "execution_count": 14,
   "id": "0144b67b",
   "metadata": {
    "scrolled": true
   },
   "outputs": [
    {
     "data": {
      "text/plain": [
       "numpy.ndarray"
      ]
     },
     "execution_count": 14,
     "metadata": {},
     "output_type": "execute_result"
    }
   ],
   "source": [
    "type(X_train.values)"
   ]
  },
  {
   "cell_type": "markdown",
   "id": "b7d2c01f",
   "metadata": {},
   "source": [
    "<h3>Create bag of words representation using CountVectorizer</h3>"
   ]
  },
  {
   "cell_type": "code",
   "execution_count": 15,
   "id": "41a212bd",
   "metadata": {},
   "outputs": [
    {
     "data": {
      "text/plain": [
       "<4457x7759 sparse matrix of type '<class 'numpy.int64'>'\n",
       "\twith 59302 stored elements in Compressed Sparse Row format>"
      ]
     },
     "execution_count": 15,
     "metadata": {},
     "output_type": "execute_result"
    }
   ],
   "source": [
    "from sklearn.feature_extraction.text import CountVectorizer\n",
    "\n",
    "v = CountVectorizer()\n",
    "\n",
    "X_train_cv = v.fit_transform(X_train.values)\n",
    "X_train_cv"
   ]
  },
  {
   "cell_type": "code",
   "execution_count": 16,
   "id": "30a01ec3",
   "metadata": {},
   "outputs": [
    {
     "data": {
      "text/plain": [
       "array([0, 0, 0, ..., 0, 0, 0], dtype=int64)"
      ]
     },
     "execution_count": 16,
     "metadata": {},
     "output_type": "execute_result"
    }
   ],
   "source": [
    "X_train_cv.toarray()[:2][0]"
   ]
  },
  {
   "cell_type": "code",
   "execution_count": 17,
   "id": "e3846715",
   "metadata": {},
   "outputs": [
    {
     "data": {
      "text/plain": [
       "(4457, 7759)"
      ]
     },
     "execution_count": 17,
     "metadata": {},
     "output_type": "execute_result"
    }
   ],
   "source": [
    "X_train_cv.shape"
   ]
  },
  {
   "cell_type": "code",
   "execution_count": 25,
   "id": "12f55cc1",
   "metadata": {},
   "outputs": [
    {
     "data": {
      "text/plain": [
       "'cheesy'"
      ]
     },
     "execution_count": 25,
     "metadata": {},
     "output_type": "execute_result"
    }
   ],
   "source": [
    "v.get_feature_names()[1771]"
   ]
  },
  {
   "cell_type": "code",
   "execution_count": 26,
   "id": "7ed0a094",
   "metadata": {},
   "outputs": [
    {
     "data": {
      "text/plain": [
       "{'hi': 3455,\n",
       " 'darlin': 2184,\n",
       " 'im': 3643,\n",
       " 'on': 4946,\n",
       " 'helens': 3422,\n",
       " 'fone': 2954,\n",
       " 'gonna': 3212,\n",
       " 'up': 7181,\n",
       " 'the': 6815,\n",
       " 'princes': 5419,\n",
       " 'nite': 4800,\n",
       " 'please': 5260,\n",
       " 'come': 1912,\n",
       " 'tb': 6726,\n",
       " 'love': 4253,\n",
       " 'kate': 3928,\n",
       " 'like': 4138,\n",
       " 'to': 6932,\n",
       " 'think': 6845,\n",
       " 'there': 6833,\n",
       " 'always': 937,\n",
       " 'possibility': 5335,\n",
       " 'of': 4908,\n",
       " 'being': 1318,\n",
       " 'in': 3668,\n",
       " 'pub': 5496,\n",
       " 'later': 4054,\n",
       " 'joy': 3885,\n",
       " 'father': 2808,\n",
       " 'is': 3774,\n",
       " 'john': 3866,\n",
       " 'then': 6827,\n",
       " '____': 750,\n",
       " 'if': 3629,\n",
       " 'ans': 988,\n",
       " 'ths': 6880,\n",
       " 'you': 7718,\n",
       " 'hav': 3379,\n",
       " 'lt': 4275,\n",
       " 'gt': 3290,\n",
       " 'iq': 3765,\n",
       " 'tis': 6911,\n",
       " 'ias': 3603,\n",
       " 'question': 5537,\n",
       " 'try': 7054,\n",
       " 'answer': 990,\n",
       " 'never': 4765,\n",
       " 'blame': 1389,\n",
       " 'day': 2199,\n",
       " 'ur': 7200,\n",
       " 'life': 4127,\n",
       " 'good': 3213,\n",
       " 'days': 2200,\n",
       " 'give': 3170,\n",
       " 'happiness': 3360,\n",
       " 'bad': 1201,\n",
       " 'experience': 2736,\n",
       " 'both': 1455,\n",
       " 'are': 1050,\n",
       " 'essential': 2670,\n",
       " 'all': 915,\n",
       " 'gods': 3195,\n",
       " 'blessings': 1399,\n",
       " 'morning': 4599,\n",
       " 'house': 3544,\n",
       " 'maid': 4338,\n",
       " 'murderer': 4663,\n",
       " 'coz': 2060,\n",
       " 'man': 4356,\n",
       " 'was': 7397,\n",
       " 'murdered': 4662,\n",
       " 'th': 6800,\n",
       " 'january': 3818,\n",
       " 'as': 1085,\n",
       " 'public': 5497,\n",
       " 'holiday': 3500,\n",
       " 'govt': 3238,\n",
       " 'instituitions': 3729,\n",
       " 'closed': 1854,\n",
       " 'including': 3676,\n",
       " 'post': 5338,\n",
       " 'office': 4917,\n",
       " 'understand': 7143,\n",
       " 'why': 7512,\n",
       " 'not': 4840,\n",
       " 'responding': 5750,\n",
       " 'spoons': 6398,\n",
       " 'it': 3786,\n",
       " 'okay': 4932,\n",
       " 'my': 4675,\n",
       " 'birthday': 1376,\n",
       " 'feb': 2821,\n",
       " 'da': 2159,\n",
       " 'hey': 3451,\n",
       " 'girl': 3164,\n",
       " 'how': 3549,\n",
       " 'hope': 3520,\n",
       " 'well': 7462,\n",
       " 'me': 4426,\n",
       " 'an': 963,\n",
       " 'del': 2250,\n",
       " 'bak': 1209,\n",
       " 'again': 864,\n",
       " 'long': 4219,\n",
       " 'time': 6900,\n",
       " 'no': 4807,\n",
       " 'call': 1624,\n",
       " 'sum': 6593,\n",
       " 'from': 3041,\n",
       " 'lucyxx': 4283,\n",
       " 'oh': 4926,\n",
       " 'watching': 7407,\n",
       " 'here': 3441,\n",
       " 'ya': 7676,\n",
       " 'knw': 3992,\n",
       " 'vl': 7320,\n",
       " 'giv': 3169,\n",
       " 'its': 3792,\n",
       " 'ok': 4931,\n",
       " 'thanks': 6805,\n",
       " 'kano': 3923,\n",
       " 'anyway': 1008,\n",
       " 'enjoy': 2622,\n",
       " 'wit': 7557,\n",
       " 'family': 2788,\n",
       " '1st': 334,\n",
       " 'salary': 5885,\n",
       " 'remember': 5692,\n",
       " 'those': 6861,\n",
       " 'whom': 7507,\n",
       " 'hurt': 3588,\n",
       " 'during': 2519,\n",
       " 'satanic': 5912,\n",
       " 'imposter': 3661,\n",
       " 'need': 4736,\n",
       " 'pay': 5129,\n",
       " 'price': 5415,\n",
       " 'so': 6273,\n",
       " 'be': 1280,\n",
       " 'may': 4417,\n",
       " 'destiny': 2297,\n",
       " 'keep': 3936,\n",
       " 'going': 3201,\n",
       " 'and': 968,\n",
       " 'said': 5881,\n",
       " 'pray': 5376,\n",
       " 'that': 6812,\n",
       " 'get': 3143,\n",
       " 'mind': 4502,\n",
       " 'over': 5037,\n",
       " 'same': 5895,\n",
       " 'new': 4769,\n",
       " 'car': 1666,\n",
       " 'for': 2965,\n",
       " 'parents': 5094,\n",
       " 'have': 3383,\n",
       " 'only': 4956,\n",
       " 'job': 3861,\n",
       " 'hand': 3339,\n",
       " 'sorry': 6325,\n",
       " 'cant': 1658,\n",
       " 'take': 6691,\n",
       " 'your': 7723,\n",
       " 'right': 5788,\n",
       " 'now': 4855,\n",
       " 'happens': 3357,\n",
       " '2waxsto': 420,\n",
       " 'do': 2400,\n",
       " 'wat': 7402,\n",
       " 'want': 7385,\n",
       " 'she': 6067,\n",
       " 'can': 1647,\n",
       " 'ill': 3640,\n",
       " 'her': 3440,\n",
       " 'medical': 4439,\n",
       " 'insurance': 3731,\n",
       " 'll': 4188,\n",
       " 'able': 765,\n",
       " 'deliver': 2257,\n",
       " 'basic': 1245,\n",
       " 'care': 1669,\n",
       " 'currently': 2138,\n",
       " 'shopping': 6106,\n",
       " 'just': 3907,\n",
       " 'til': 6898,\n",
       " 'friday': 3024,\n",
       " 'thats': 6814,\n",
       " 'when': 7490,\n",
       " 'see': 5986,\n",
       " 'major': 4346,\n",
       " 'person': 5175,\n",
       " 'guide': 3305,\n",
       " 'finished': 2885,\n",
       " 'work': 7602,\n",
       " 'yet': 7705,\n",
       " 'whats': 7485,\n",
       " 'any': 998,\n",
       " 'beer': 1304,\n",
       " 'fri': 3023,\n",
       " 'ah': 876,\n",
       " 'okie': 4936,\n",
       " 'lor': 4232,\n",
       " 'goin': 3199,\n",
       " 'drivin': 2481,\n",
       " 'den': 2264,\n",
       " 'go': 3189,\n",
       " 'shoppin': 6105,\n",
       " 'after': 857,\n",
       " 'tt': 7063,\n",
       " 'this': 6854,\n",
       " 'much': 4644,\n",
       " 'buzy': 1601,\n",
       " 'planned': 5247,\n",
       " 'join': 3867,\n",
       " 'company': 1930,\n",
       " 'jan': 3815,\n",
       " 'don': 2429,\n",
       " 'know': 3988,\n",
       " 'what': 7483,\n",
       " 'will': 7528,\n",
       " 'happen': 3353,\n",
       " 'still': 6476,\n",
       " 'otside': 5016,\n",
       " 'le': 4077,\n",
       " '2morrow': 402,\n",
       " 'maga': 4330,\n",
       " 'doesnt': 2413,\n",
       " 'test': 6782,\n",
       " 'business': 1590,\n",
       " 'yay': 7688,\n",
       " 'finally': 2875,\n",
       " 'lol': 4213,\n",
       " 'missed': 4528,\n",
       " 'our': 5018,\n",
       " 'cinema': 1821,\n",
       " 'trip': 7035,\n",
       " 'last': 4048,\n",
       " 'week': 7445,\n",
       " 'way': 7418,\n",
       " 'send': 6010,\n",
       " 'shade': 6049,\n",
       " 'stuff': 6536,\n",
       " 'has': 3371,\n",
       " 'been': 1302,\n",
       " 'wonderful': 7589,\n",
       " 'too': 6971,\n",
       " 'they': 6839,\n",
       " 're': 5599,\n",
       " 'dramatic': 2465,\n",
       " 'schools': 5942,\n",
       " 'already': 927,\n",
       " 'tomorrow': 6957,\n",
       " 'apparently': 1022,\n",
       " 'we': 7423,\n",
       " 'drive': 2479,\n",
       " 'inch': 3671,\n",
       " 'snow': 6269,\n",
       " 'were': 7471,\n",
       " 'supposed': 6621,\n",
       " 'finish': 2883,\n",
       " 'at': 1117,\n",
       " 'pick': 5212,\n",
       " 'or': 4984,\n",
       " 'meet': 4443,\n",
       " 'text': 6787,\n",
       " 'back': 1198,\n",
       " 'number': 4871,\n",
       " 'luv': 4288,\n",
       " 'xxx': 7666,\n",
       " 'mm': 4545,\n",
       " 'umma': 7124,\n",
       " 'ask': 1095,\n",
       " 'vava': 7258,\n",
       " 'also': 930,\n",
       " 'tell': 6753,\n",
       " 'him': 3465,\n",
       " 'play': 5252,\n",
       " 'together': 6942,\n",
       " 'wif': 7519,\n",
       " 'booking': 1438,\n",
       " 'tour': 6998,\n",
       " 'package': 5060,\n",
       " 'ew': 2707,\n",
       " 'one': 4950,\n",
       " 'them': 6823,\n",
       " 'customer': 2144,\n",
       " 'place': 5238,\n",
       " 'afternoon': 859,\n",
       " 'words': 7601,\n",
       " 'ym': 7712,\n",
       " 'tm': 6923,\n",
       " 'very': 7276,\n",
       " 'smart': 6236,\n",
       " 'move': 4613,\n",
       " 'slave': 6207,\n",
       " 'smiles': 6246,\n",
       " 'drink': 2474,\n",
       " 'coffee': 1884,\n",
       " 'await': 1166,\n",
       " 'wish': 7550,\n",
       " 'with': 7558,\n",
       " 'holding': 3498,\n",
       " 'tightly': 6894,\n",
       " 'making': 4351,\n",
       " 'important': 3658,\n",
       " 'mean': 4429,\n",
       " 'about': 767,\n",
       " 'msg': 4626,\n",
       " 'b4': 1181,\n",
       " 'leave': 4087,\n",
       " 'actually': 812,\n",
       " 'called': 1630,\n",
       " 'someone': 6292,\n",
       " 'punto': 5506,\n",
       " 'woulda': 7624,\n",
       " 'worse': 7615,\n",
       " 'tyler': 7101,\n",
       " 'getting': 3150,\n",
       " '8th': 725,\n",
       " 'hour': 3541,\n",
       " 'worry': 7613,\n",
       " 'sure': 6624,\n",
       " 'sleep': 6208,\n",
       " 'jus': 3906,\n",
       " 'bathing': 1255,\n",
       " 'pocked': 5290,\n",
       " 'before': 1307,\n",
       " 'mobile': 4559,\n",
       " 'content': 1995,\n",
       " 'order': 4992,\n",
       " 'resent': 5737,\n",
       " 'previous': 5412,\n",
       " 'attempt': 1129,\n",
       " 'failed': 2771,\n",
       " 'due': 2510,\n",
       " 'network': 4760,\n",
       " 'error': 2657,\n",
       " 'queries': 5535,\n",
       " 'customersqueries': 2147,\n",
       " 'netvision': 4759,\n",
       " 'uk': 7118,\n",
       " 'com': 1906,\n",
       " 'plan': 5243,\n",
       " '25': 368,\n",
       " 'pass': 5111,\n",
       " 'lar': 4043,\n",
       " 'yes': 7702,\n",
       " 'reg': 5670,\n",
       " 'ciao': 1819,\n",
       " 'cause': 1699,\n",
       " 'old': 4941,\n",
       " 'live': 4180,\n",
       " 'high': 3459,\n",
       " 'came': 1643,\n",
       " 'fix': 2904,\n",
       " 'ceiling': 1709,\n",
       " 'edison': 2552,\n",
       " 'rightly': 5790,\n",
       " 'fool': 2958,\n",
       " 'more': 4595,\n",
       " 'questions': 5539,\n",
       " 'than': 6801,\n",
       " 'wise': 7549,\n",
       " 'us': 7214,\n",
       " 'speechless': 6364,\n",
       " 'viva': 7317,\n",
       " 'gm': 3183,\n",
       " 'gn': 3185,\n",
       " 'ge': 3121,\n",
       " 'gnt': 3187,\n",
       " 'beauty': 1287,\n",
       " 'help': 3428,\n",
       " 'pimples': 5226,\n",
       " 'wen': 7465,\n",
       " 'free': 3009,\n",
       " 'home': 3504,\n",
       " 'tel': 6750,\n",
       " 'vikky': 7295,\n",
       " 'sent': 6020,\n",
       " 'mail': 4339,\n",
       " 'better': 1341,\n",
       " 'evening': 2682,\n",
       " 'il': 3639,\n",
       " 'today': 6938,\n",
       " 'aftr': 862,\n",
       " '6pm': 610,\n",
       " 'dear': 2212,\n",
       " 'chechi': 1758,\n",
       " 'did': 2324,\n",
       " 'talk': 6699,\n",
       " 'hard': 3362,\n",
       " 'believe': 1319,\n",
       " 'things': 6844,\n",
       " 'say': 5927,\n",
       " 'lie': 4125,\n",
       " 'but': 1593,\n",
       " 'twice': 7083,\n",
       " 'saying': 5929,\n",
       " 'anything': 1006,\n",
       " 'law': 4066,\n",
       " 'make': 4347,\n",
       " 'happy': 3361,\n",
       " 'friendship': 3029,\n",
       " 'friend': 3027,\n",
       " 'feel': 2826,\n",
       " 'alone': 924,\n",
       " 'until': 7179,\n",
       " 'alive': 914,\n",
       " 'gud': 3296,\n",
       " 'night': 4789,\n",
       " 'got': 3229,\n",
       " 'seventeen': 6040,\n",
       " 'pounds': 5350,\n",
       " 'seven': 6039,\n",
       " 'hundred': 3578,\n",
       " 'ml': 4544,\n",
       " 'local': 4198,\n",
       " 'dates': 2194,\n",
       " 'area': 1051,\n",
       " 'lots': 4241,\n",
       " 'people': 5157,\n",
       " 'registered': 5675,\n",
       " 'reply': 5723,\n",
       " 'date': 2192,\n",
       " 'start': 6441,\n",
       " '18': 320,\n",
       " 'www': 7651,\n",
       " 'flirtparty': 2927,\n",
       " 'replys150': 5725,\n",
       " 'completely': 1942,\n",
       " 'forgot': 2976,\n",
       " 'pop': 5319,\n",
       " 'em': 2592,\n",
       " 'round': 5833,\n",
       " 'won': 7586,\n",
       " 'ard': 1049,\n",
       " 'christmas': 1814,\n",
       " 'merry': 4470,\n",
       " 'mas': 4389,\n",
       " 'themob': 6826,\n",
       " 'check': 1759,\n",
       " 'out': 5021,\n",
       " 'newest': 4771,\n",
       " 'selection': 5998,\n",
       " 'games': 3092,\n",
       " 'tones': 6960,\n",
       " 'gossip': 3228,\n",
       " 'babes': 1190,\n",
       " 'sport': 6400,\n",
       " 'fit': 2901,\n",
       " 'funky': 3071,\n",
       " 'wap': 7389,\n",
       " '82468': 663,\n",
       " 'surely': 6625,\n",
       " 'dont': 2433,\n",
       " 'touch': 6995,\n",
       " 'show': 6124,\n",
       " 'wot': 7619,\n",
       " 'he': 3393,\n",
       " 'could': 2041,\n",
       " 'dust': 2521,\n",
       " 'vote': 7331,\n",
       " 'wherever': 7495,\n",
       " 'heart': 3409,\n",
       " 'guides': 3306,\n",
       " 'messages': 4475,\n",
       " 'had': 3322,\n",
       " 'food': 2957,\n",
       " 'pa': 5057,\n",
       " 'who': 7504,\n",
       " 'ru': 5847,\n",
       " 'picking': 5214,\n",
       " 'various': 7253,\n",
       " 'points': 5297,\n",
       " 'room': 5826,\n",
       " 'cannot': 1657,\n",
       " 'cos': 2029,\n",
       " 'messy': 4479,\n",
       " 'haha': 3324,\n",
       " 'video': 7286,\n",
       " 'player': 5254,\n",
       " 'movie': 4616,\n",
       " 'collect': 1896,\n",
       " '89105': 714,\n",
       " 'extra': 2752,\n",
       " 'films': 2871,\n",
       " 'ordered': 4993,\n",
       " 'apply': 1027,\n",
       " 'yrs': 7735,\n",
       " 'remove': 5704,\n",
       " 'teeth': 6748,\n",
       " 'painful': 5066,\n",
       " 'maintaining': 4345,\n",
       " 'other': 5011,\n",
       " 'admin': 825,\n",
       " 'building': 1570,\n",
       " 'might': 4491,\n",
       " 'slightly': 6219,\n",
       " 'earlier': 2528,\n",
       " 'reaching': 5603,\n",
       " 'schedule': 5940,\n",
       " 'lk': 4186,\n",
       " 'sun': 6600,\n",
       " 'would': 7623,\n",
       " 'great': 3263,\n",
       " 'guild': 3307,\n",
       " 'bristol': 1527,\n",
       " 'road': 5806,\n",
       " 'somewhere': 6303,\n",
       " 'weekend': 7447,\n",
       " 'plans': 5249,\n",
       " 'flight': 2920,\n",
       " 'says': 5930,\n",
       " 'texts': 6798,\n",
       " 'confirm': 1969,\n",
       " 'deny': 2272,\n",
       " 'another': 987,\n",
       " 'month': 4588,\n",
       " 'chocolate': 1804,\n",
       " 'weed': 7444,\n",
       " 'alcohol': 901,\n",
       " 'does': 2410,\n",
       " 'usually': 7229,\n",
       " 'fifteen': 2854,\n",
       " 'fucking': 3053,\n",
       " 'minutes': 4517,\n",
       " 'respond': 5749,\n",
       " 'yo': 7713,\n",
       " 'guess': 3299,\n",
       " 'dropped': 2486,\n",
       " 'search': 5969,\n",
       " 'eh': 2570,\n",
       " 'spell': 6369,\n",
       " 'his': 3472,\n",
       " 'name': 4694,\n",
       " 'naughty': 4719,\n",
       " 'wet': 7479,\n",
       " 'catch': 1695,\n",
       " 'bus': 1586,\n",
       " 'frying': 3048,\n",
       " 'egg': 2567,\n",
       " 'tea': 6732,\n",
       " 'eating': 2544,\n",
       " 'mom': 4576,\n",
       " 'left': 4093,\n",
       " 'dinner': 2352,\n",
       " 'yup': 7743,\n",
       " 'song': 6310,\n",
       " 'bro': 1530,\n",
       " 'creative': 2081,\n",
       " 'neva': 4763,\n",
       " 'quality': 5532,\n",
       " 'review': 5777,\n",
       " 'online': 4954,\n",
       " 'bathe': 1254,\n",
       " 'liao': 4118,\n",
       " 'fighting': 2858,\n",
       " 'world': 7608,\n",
       " 'easy': 2541,\n",
       " 'either': 2575,\n",
       " 'win': 7531,\n",
       " 'lose': 4233,\n",
       " 'bt': 1555,\n",
       " 'fightng': 2859,\n",
       " 'some1': 6289,\n",
       " 'close': 1852,\n",
       " 'dificult': 2339,\n",
       " 'basket': 1247,\n",
       " 'gettin': 3149,\n",
       " 'full': 3061,\n",
       " 'by': 1607,\n",
       " 'tonight': 6966,\n",
       " 'yeah': 7690,\n",
       " 'should': 6118,\n",
       " 'ready': 5609,\n",
       " 'lookin': 4225,\n",
       " 'saucy': 5920,\n",
       " 'daytime': 2201,\n",
       " 'fun': 3064,\n",
       " 'wiv': 7565,\n",
       " 'busty': 1591,\n",
       " 'married': 4385,\n",
       " 'woman': 7583,\n",
       " 'am': 939,\n",
       " 'next': 4777,\n",
       " 'chat': 1750,\n",
       " 'sort': 6326,\n",
       " '09099726429': 246,\n",
       " 'janinexx': 3817,\n",
       " 'calls': 1638,\n",
       " 'minmobsmorelkpobox177hp51fl': 4509,\n",
       " 'first': 2897,\n",
       " 'big': 1358,\n",
       " 'brother': 1539,\n",
       " 'really': 5617,\n",
       " 'scraped': 5953,\n",
       " 'barrel': 1238,\n",
       " 'shower': 6126,\n",
       " 'social': 6276,\n",
       " 'misfits': 4523,\n",
       " 'except': 2714,\n",
       " 'theres': 6834,\n",
       " 'chick': 1784,\n",
       " 'huge': 3569,\n",
       " 'boobs': 1434,\n",
       " 'aft': 856,\n",
       " 'lunch': 4285,\n",
       " 'str': 6501,\n",
       " 'down': 2453,\n",
       " 'smth': 6260,\n",
       " 'shit': 6091,\n",
       " 'babe': 1189,\n",
       " 'thasa': 6811,\n",
       " 'bit': 1378,\n",
       " 'messed': 4477,\n",
       " 'yeh': 7694,\n",
       " 'shudvetold': 6137,\n",
       " 'urgran': 7209,\n",
       " 'neway': 4770,\n",
       " 'illspeak': 3642,\n",
       " 'u2moro': 7106,\n",
       " 'asleep': 1101,\n",
       " 'staff': 6423,\n",
       " 'taking': 6696,\n",
       " 'class': 1833,\n",
       " 'ho': 3491,\n",
       " 'use': 7218,\n",
       " 'these': 6835,\n",
       " 'type': 7102,\n",
       " 'length': 4103,\n",
       " 'top': 6978,\n",
       " 'shorter': 6113,\n",
       " 'fringe': 3031,\n",
       " 'thk': 6855,\n",
       " 'lazy': 4071,\n",
       " 'dun': 2514,\n",
       " 'wan': 7380,\n",
       " 'distract': 2383,\n",
       " 'phone': 5201,\n",
       " 'sell': 6002,\n",
       " 'email': 2593,\n",
       " 'id': 3618,\n",
       " 'soon': 6315,\n",
       " 'yesterday': 7704,\n",
       " 'true': 7046,\n",
       " 'reach': 5600,\n",
       " 'telling': 6754,\n",
       " 'meeting': 4445,\n",
       " 'hmph': 3488,\n",
       " 'head': 3394,\n",
       " 'baller': 1213,\n",
       " 'sunny': 6604,\n",
       " 'california': 1623,\n",
       " 'weather': 7431,\n",
       " 'cool': 2017,\n",
       " 'letter': 4113,\n",
       " 'save': 5922,\n",
       " 'money': 4583,\n",
       " 'wedding': 7439,\n",
       " 'lingerie': 4156,\n",
       " 'bridal': 1513,\n",
       " 'petticoatdreams': 5188,\n",
       " 'co': 1874,\n",
       " 'choose': 1807,\n",
       " 'superb': 6611,\n",
       " 'national': 4713,\n",
       " 'delivery': 2260,\n",
       " 'brought': 1541,\n",
       " 'weddingfriend': 7440,\n",
       " 'winner': 7541,\n",
       " 'specially': 6360,\n",
       " 'selected': 5997,\n",
       " 'receive': 5633,\n",
       " '1000': 256,\n",
       " 'cash': 1688,\n",
       " 'flights': 2921,\n",
       " 'inc': 3670,\n",
       " 'speak': 6356,\n",
       " 'operator': 4971,\n",
       " 'claim': 1826,\n",
       " '0871277810810': 110,\n",
       " 'flippin': 2924,\n",
       " 'stop': 6488,\n",
       " 'grasp': 3256,\n",
       " 'pretty': 5409,\n",
       " 'booty': 1444,\n",
       " 'shijutta': 6081,\n",
       " 'amp': 956,\n",
       " 'successful': 6568,\n",
       " 'practicing': 5366,\n",
       " 'babies': 1191,\n",
       " 'boat': 1422,\n",
       " 'moms': 4579,\n",
       " 'half': 3331,\n",
       " 'naked': 4692,\n",
       " 've': 7261,\n",
       " 'reached': 5602,\n",
       " 'sch': 5939,\n",
       " '6times': 612,\n",
       " 'denying': 2273,\n",
       " 'havent': 3386,\n",
       " 'juz': 3912,\n",
       " 'arrive': 1076,\n",
       " 'goodnight': 3218,\n",
       " 'unless': 7165,\n",
       " 'guys': 3313,\n",
       " 'some': 6288,\n",
       " 'sooner': 6316,\n",
       " 'sitting': 6184,\n",
       " 'mu': 4642,\n",
       " 'waiting': 7364,\n",
       " 'everyone': 2691,\n",
       " 'suite': 6588,\n",
       " 'tick': 6889,\n",
       " 'where': 7494,\n",
       " 'die': 2329,\n",
       " 'loneliness': 4217,\n",
       " 'pouts': 5353,\n",
       " 'stomps': 6483,\n",
       " 'feet': 2833,\n",
       " 'advice': 841,\n",
       " 'add': 815,\n",
       " 'comin': 1917,\n",
       " 'tons': 6969,\n",
       " 'coins': 1889,\n",
       " 'thru': 6879,\n",
       " 'paypal': 5139,\n",
       " 'voila': 7326,\n",
       " 'pockets': 5292,\n",
       " 'trash': 7021,\n",
       " 'chance': 1730,\n",
       " '150': 304,\n",
       " 'worth': 7617,\n",
       " 'discount': 2373,\n",
       " 'vouchers': 7335,\n",
       " 'shop': 6104,\n",
       " '85023': 684,\n",
       " 'savamob': 5921,\n",
       " 'offers': 4916,\n",
       " 'cs': 2107,\n",
       " 'pobox84': 5287,\n",
       " 'm263uz': 4304,\n",
       " '00': 0,\n",
       " 'sub': 6548,\n",
       " '16': 315,\n",
       " 'attached': 1127,\n",
       " 'seeing': 5988,\n",
       " 'every': 2687,\n",
       " 'best': 1337,\n",
       " 'teach': 6733,\n",
       " 'midnight': 4489,\n",
       " '250': 369,\n",
       " 'wk': 7566,\n",
       " 'txt': 7089,\n",
       " 'action': 806,\n",
       " '80608': 651,\n",
       " 'movietrivia': 4618,\n",
       " 'tv': 7080,\n",
       " 'custcare': 2142,\n",
       " '08712405022': 106,\n",
       " '1x150p': 341,\n",
       " 'valued': 7248,\n",
       " 'receivea': 5634,\n",
       " '900': 727,\n",
       " 'prize': 5432,\n",
       " 'reward': 5779,\n",
       " '09061701461': 190,\n",
       " 'code': 1883,\n",
       " 'kl341': 3980,\n",
       " 'valid': 7244,\n",
       " '12': 278,\n",
       " 'hours': 3543,\n",
       " 'driving': 2482,\n",
       " 'destination': 2296,\n",
       " 'tried': 7034,\n",
       " 'contact': 1991,\n",
       " 'offer': 4915,\n",
       " 'handset': 3344,\n",
       " '750': 621,\n",
       " 'anytime': 1007,\n",
       " 'networks': 4762,\n",
       " 'mins': 4513,\n",
       " 'unlimited': 7167,\n",
       " 'camcorder': 1642,\n",
       " '08000930705': 50,\n",
       " 'god': 3194,\n",
       " 'picked': 5213,\n",
       " 'flower': 2932,\n",
       " 'dippeditinadew': 2356,\n",
       " 'lovingly': 4264,\n",
       " 'touched': 6996,\n",
       " 'itwhichturnedinto': 3794,\n",
       " 'gifted': 3158,\n",
       " 'tomeandsaid': 6954,\n",
       " '4u': 533,\n",
       " 'sister': 6179,\n",
       " 'earn': 2531,\n",
       " 'yellow': 7696,\n",
       " 'card': 1667,\n",
       " 'travel': 7024,\n",
       " 'gone': 3210,\n",
       " 'bucks': 1560,\n",
       " 'hack': 3321,\n",
       " 'backdoor': 1199,\n",
       " 'entry': 2641,\n",
       " 'into': 3745,\n",
       " '121': 281,\n",
       " 'rooms': 5829,\n",
       " 'fraction': 2998,\n",
       " 'cost': 2031,\n",
       " 'neo69': 4751,\n",
       " '09050280520': 166,\n",
       " 'subscribe': 6556,\n",
       " '25p': 371,\n",
       " 'pm': 5275,\n",
       " 'dps': 2460,\n",
       " 'bcm': 1270,\n",
       " 'box': 1465,\n",
       " '8027': 649,\n",
       " 'ldn': 4075,\n",
       " 'wc1n3xx': 7422,\n",
       " 'searching': 5970,\n",
       " 'dual': 2502,\n",
       " 'sim': 6161,\n",
       " 'working': 7605,\n",
       " 'squatting': 6415,\n",
       " 'walking': 7372,\n",
       " 'coming': 1918,\n",
       " 'helloooo': 3427,\n",
       " 'wake': 7365,\n",
       " 'sweet': 6650,\n",
       " 'welcomes': 7461,\n",
       " 'mrng': 4624,\n",
       " 'mate': 4398,\n",
       " 'catching': 1697,\n",
       " 'fine': 2881,\n",
       " 'started': 6442,\n",
       " 'dull': 2511,\n",
       " 'hear': 3405,\n",
       " 'officially': 4920,\n",
       " 'paid': 5064,\n",
       " 'market': 4380,\n",
       " 'petey': 5186,\n",
       " 'noi': 4812,\n",
       " 'wanted': 7386,\n",
       " 'avent': 1160,\n",
       " 'spoken': 6394,\n",
       " 'doin': 2420,\n",
       " 'alrite': 929,\n",
       " 'nit': 4799,\n",
       " 'js': 3888,\n",
       " 'boytoy': 1486,\n",
       " 'miss': 4526,\n",
       " 'happened': 3355,\n",
       " 'ultimately': 7122,\n",
       " 'tor': 6983,\n",
       " 'motive': 4607,\n",
       " 'tui': 7068,\n",
       " 'achieve': 797,\n",
       " 'korli': 3999,\n",
       " 'fujitsu': 3058,\n",
       " 'ibm': 3607,\n",
       " 'hp': 3555,\n",
       " 'toshiba': 6989,\n",
       " 'lot': 4239,\n",
       " 'model': 4569,\n",
       " 'bin': 1369,\n",
       " 'awarded': 1170,\n",
       " '50': 538,\n",
       " 'instant': 3726,\n",
       " '08715203028': 118,\n",
       " '9th': 749,\n",
       " 'wins': 7544,\n",
       " 'min': 4500,\n",
       " '500': 539,\n",
       " 'optout': 4983,\n",
       " '08718727870': 144,\n",
       " 'keen': 3935,\n",
       " 'kind': 3966,\n",
       " 'shouldn': 6120,\n",
       " 'tomo': 6955,\n",
       " 'hai': 3326,\n",
       " 'ana': 964,\n",
       " 'tomarrow': 6952,\n",
       " 'decimal': 2225,\n",
       " 'sathy': 5913,\n",
       " 'rto': 5846,\n",
       " '1apple': 327,\n",
       " 'doctor': 2406,\n",
       " '1tulsi': 338,\n",
       " 'leaf': 4081,\n",
       " 'cancer': 1654,\n",
       " '1lemon': 332,\n",
       " 'fat': 2806,\n",
       " '1cup': 329,\n",
       " 'milk': 4496,\n",
       " 'bone': 1431,\n",
       " 'problms': 5440,\n",
       " 'litres': 4178,\n",
       " 'watr': 7412,\n",
       " 'diseases': 2376,\n",
       " 'snd': 6264,\n",
       " 'howz': 3554,\n",
       " 'persons': 5179,\n",
       " 'story': 6500,\n",
       " 'shall': 6055,\n",
       " 'pickle': 5215,\n",
       " 'aight': 884,\n",
       " 'chillin': 1794,\n",
       " 'ahhh': 879,\n",
       " 'vaguely': 7240,\n",
       " 'hmv': 3489,\n",
       " 'quiz': 5547,\n",
       " 'balance': 1211,\n",
       " 'maximize': 4415,\n",
       " 'hmv1': 3490,\n",
       " '86688': 691,\n",
       " '150p': 306,\n",
       " 'dnt': 2399,\n",
       " 'ice': 3612,\n",
       " 'pieces': 5221,\n",
       " 'cloth': 1857,\n",
       " 'pack': 5059,\n",
       " 'tablets': 6679,\n",
       " 'macho': 4318,\n",
       " 'range': 5580,\n",
       " 'something': 6298,\n",
       " 'used': 7219,\n",
       " 'plus': 5272,\n",
       " 'interfued': 3739,\n",
       " 'blackberry': 1385,\n",
       " 'bold': 1428,\n",
       " 'bb': 1263,\n",
       " 'kay': 3931,\n",
       " 'since': 6166,\n",
       " 'having': 3389,\n",
       " 'raping': 5583,\n",
       " 'dudes': 2508,\n",
       " 'poker': 5298,\n",
       " 'oops': 4965,\n",
       " 'daily': 2167,\n",
       " 'favour': 2816,\n",
       " 'tip': 6905,\n",
       " 'drop': 2485,\n",
       " 'lets': 4112,\n",
       " 'town': 7000,\n",
       " 'maybe': 4419,\n",
       " 'mum': 4652,\n",
       " 'lab': 4016,\n",
       " 'goggles': 3197,\n",
       " 'went': 7468,\n",
       " 'thts': 6882,\n",
       " 'gift': 3157,\n",
       " 'birds': 1372,\n",
       " 'humans': 3576,\n",
       " 'natural': 4716,\n",
       " 'frm': 3032,\n",
       " 'thank': 6804,\n",
       " 'portege': 5326,\n",
       " 'm100': 4300,\n",
       " 'gd': 3119,\n",
       " 'eighth': 2572,\n",
       " 'macha': 4315,\n",
       " 'upset': 7196,\n",
       " 'assume': 1109,\n",
       " 'mindset': 4503,\n",
       " 'let': 4111,\n",
       " 'begin': 1311,\n",
       " '07801543489': 36,\n",
       " 'guaranteed': 3294,\n",
       " 'latests': 4056,\n",
       " 'nokia': 4816,\n",
       " '40gb': 485,\n",
       " 'ipod': 3764,\n",
       " 'mp3': 4620,\n",
       " 'word': 7600,\n",
       " '83355': 670,\n",
       " 'tc': 6728,\n",
       " 'llc': 4189,\n",
       " 'ny': 4885,\n",
       " 'usa': 7215,\n",
       " 'mt': 4634,\n",
       " 'msgrcvd18': 4630,\n",
       " 'fran': 2999,\n",
       " 'decided': 2223,\n",
       " 'broke': 1533,\n",
       " 'knackered': 3981,\n",
       " 'bout': 1461,\n",
       " '2mrw': 405,\n",
       " 'janx': 3819,\n",
       " 'dads': 2165,\n",
       " 'credit': 2082,\n",
       " 'painting': 5067,\n",
       " 'wall': 7374,\n",
       " 'exact': 2709,\n",
       " 'intentions': 3734,\n",
       " 'each': 2526,\n",
       " 'moment': 4577,\n",
       " 'own': 5050,\n",
       " 'value': 7247,\n",
       " ...}"
      ]
     },
     "execution_count": 26,
     "metadata": {},
     "output_type": "execute_result"
    }
   ],
   "source": [
    "v.vocabulary_"
   ]
  },
  {
   "cell_type": "code",
   "execution_count": 23,
   "id": "a805af1f",
   "metadata": {},
   "outputs": [
    {
     "data": {
      "text/plain": [
       "array([0, 0, 0, ..., 0, 0, 0], dtype=int64)"
      ]
     },
     "execution_count": 23,
     "metadata": {},
     "output_type": "execute_result"
    }
   ],
   "source": [
    "X_train_np = X_train_cv.toarray()\n",
    "X_train_np[0]"
   ]
  },
  {
   "cell_type": "code",
   "execution_count": 27,
   "id": "79aa94f4",
   "metadata": {},
   "outputs": [
    {
     "data": {
      "text/plain": [
       "(array([1912, 2184, 2954, 3212, 3422, 3455, 3643, 3928, 4253, 4800, 4946,\n",
       "        5260, 5419, 6726, 6815, 7181], dtype=int64),)"
      ]
     },
     "execution_count": 27,
     "metadata": {},
     "output_type": "execute_result"
    }
   ],
   "source": [
    "np.where(X_train_np[0]!=0)"
   ]
  },
  {
   "cell_type": "code",
   "execution_count": 29,
   "id": "62198de1",
   "metadata": {},
   "outputs": [
    {
     "data": {
      "text/plain": [
       "5143    Hi darlin im on helens fone im gonna b up the ...\n",
       "3949    I like to think there's always the possibility...\n",
       "3411    Joy's father is John. Then John is the ____ of...\n",
       "4537    Never blame a day in ur life. Good days give u...\n",
       "Name: Message, dtype: object"
      ]
     },
     "execution_count": 29,
     "metadata": {},
     "output_type": "execute_result"
    }
   ],
   "source": [
    "X_train[:4]"
   ]
  },
  {
   "cell_type": "code",
   "execution_count": 30,
   "id": "50a37c71",
   "metadata": {
    "scrolled": true
   },
   "outputs": [
    {
     "data": {
      "text/plain": [
       "0"
      ]
     },
     "execution_count": 30,
     "metadata": {},
     "output_type": "execute_result"
    }
   ],
   "source": [
    "X_train_np[0][1771]"
   ]
  },
  {
   "cell_type": "markdown",
   "id": "e6ea444a",
   "metadata": {},
   "source": [
    "<h3>Train the naive bayes model</h3>"
   ]
  },
  {
   "cell_type": "code",
   "execution_count": 31,
   "id": "bf02cecc",
   "metadata": {},
   "outputs": [
    {
     "data": {
      "text/plain": [
       "MultinomialNB()"
      ]
     },
     "execution_count": 31,
     "metadata": {},
     "output_type": "execute_result"
    }
   ],
   "source": [
    "from sklearn.naive_bayes import MultinomialNB\n",
    "\n",
    "model = MultinomialNB()\n",
    "model.fit(X_train_cv, y_train)"
   ]
  },
  {
   "cell_type": "code",
   "execution_count": 32,
   "id": "94f569a6",
   "metadata": {},
   "outputs": [],
   "source": [
    "X_test_cv = v.transform(X_test)"
   ]
  },
  {
   "cell_type": "markdown",
   "id": "101b8b8d",
   "metadata": {},
   "source": [
    "<h3>Evaluate Performance</h3>"
   ]
  },
  {
   "cell_type": "code",
   "execution_count": 33,
   "id": "1c0cb441",
   "metadata": {},
   "outputs": [
    {
     "name": "stdout",
     "output_type": "stream",
     "text": [
      "              precision    recall  f1-score   support\n",
      "\n",
      "           0       0.98      0.99      0.99       966\n",
      "           1       0.96      0.89      0.92       149\n",
      "\n",
      "    accuracy                           0.98      1115\n",
      "   macro avg       0.97      0.94      0.95      1115\n",
      "weighted avg       0.98      0.98      0.98      1115\n",
      "\n"
     ]
    }
   ],
   "source": [
    "from sklearn.metrics import classification_report\n",
    "\n",
    "y_pred = model.predict(X_test_cv)\n",
    "\n",
    "print(classification_report(y_test, y_pred))"
   ]
  },
  {
   "cell_type": "code",
   "execution_count": 34,
   "id": "27dcf0b7",
   "metadata": {
    "scrolled": true
   },
   "outputs": [
    {
     "data": {
      "text/plain": [
       "array([0, 1], dtype=int64)"
      ]
     },
     "execution_count": 34,
     "metadata": {},
     "output_type": "execute_result"
    }
   ],
   "source": [
    "emails = [\n",
    "    'Hey mohan, can we get together to watch footbal game tomorrow?',\n",
    "    'Upto 20% discount on parking, exclusive offer just for you. Dont miss this reward!'\n",
    "]\n",
    "\n",
    "emails_count = v.transform(emails)\n",
    "model.predict(emails_count)"
   ]
  },
  {
   "cell_type": "markdown",
   "id": "22c9e2e2",
   "metadata": {},
   "source": [
    "<h3>Train the model using sklearn pipeline and reduce number of lines of code</h3>"
   ]
  },
  {
   "cell_type": "code",
   "execution_count": 35,
   "id": "863f5ffa",
   "metadata": {},
   "outputs": [],
   "source": [
    "from sklearn.pipeline import Pipeline\n",
    "\n",
    "clf = Pipeline([\n",
    "    ('vectorizer', CountVectorizer()),\n",
    "    ('nb', MultinomialNB())\n",
    "])"
   ]
  },
  {
   "cell_type": "code",
   "execution_count": 36,
   "id": "26ecc1d4",
   "metadata": {},
   "outputs": [
    {
     "data": {
      "text/plain": [
       "Pipeline(steps=[('vectorizer', CountVectorizer()), ('nb', MultinomialNB())])"
      ]
     },
     "execution_count": 36,
     "metadata": {},
     "output_type": "execute_result"
    }
   ],
   "source": [
    "clf.fit(X_train, y_train)"
   ]
  },
  {
   "cell_type": "code",
   "execution_count": 37,
   "id": "e7d9b00b",
   "metadata": {},
   "outputs": [
    {
     "name": "stdout",
     "output_type": "stream",
     "text": [
      "              precision    recall  f1-score   support\n",
      "\n",
      "           0       0.98      0.99      0.99       966\n",
      "           1       0.96      0.89      0.92       149\n",
      "\n",
      "    accuracy                           0.98      1115\n",
      "   macro avg       0.97      0.94      0.95      1115\n",
      "weighted avg       0.98      0.98      0.98      1115\n",
      "\n"
     ]
    }
   ],
   "source": [
    "y_pred = clf.predict(X_test)\n",
    "\n",
    "print(classification_report(y_test, y_pred))"
   ]
  }
 ],
 "metadata": {
  "kernelspec": {
   "display_name": "Python 3 (ipykernel)",
   "language": "python",
   "name": "python3"
  },
  "language_info": {
   "codemirror_mode": {
    "name": "ipython",
    "version": 3
   },
   "file_extension": ".py",
   "mimetype": "text/x-python",
   "name": "python",
   "nbconvert_exporter": "python",
   "pygments_lexer": "ipython3",
   "version": "3.9.7"
  }
 },
 "nbformat": 4,
 "nbformat_minor": 5
}
